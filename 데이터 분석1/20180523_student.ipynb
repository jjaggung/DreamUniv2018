{
 "cells": [
  {
   "cell_type": "markdown",
   "metadata": {},
   "source": [
    "# 안산시 고등학교 위치 시각화\n",
    "#### 경기도 공공데이터: \"경기데이터드림\" \n",
    "- https://data.gg.go.kr/portal/data/service/selectServicePage.do?page=1&rows=10&sortColumn=&sortDirection=&infId=WL5ESBLQR3R5E8CQOX4U23432290&infSeq=2&order=&searchWord=%EA%B3%A0%EB%93%B1%ED%95%99%EA%B5%90"
   ]
  },
  {
   "cell_type": "code",
   "execution_count": null,
   "metadata": {},
   "outputs": [],
   "source": [
    "# 필요 모듈 임포트\n",
    "import numpy as np\n",
    "import pandas as pd"
   ]
  },
  {
   "cell_type": "code",
   "execution_count": null,
   "metadata": {},
   "outputs": [],
   "source": [
    "# 데이터 로드\n",
    "gg_highschool = "
   ]
  },
  {
   "cell_type": "code",
   "execution_count": null,
   "metadata": {},
   "outputs": [],
   "source": [
    "# 안산 데이터만!\n",
    "ansan_highschool = "
   ]
  },
  {
   "cell_type": "markdown",
   "metadata": {},
   "source": [
    "### 고등학교 60곳의 주소를 가져와야 함.\n",
    "- [Google Maps Geocoding API]https://developers.google.com/maps/?hl=ko\n",
    "* 구글 맵스를 사용해서 고등학교의 주소, 위치(위도 좌표, 경도 좌표) 정보를 받아온다"
   ]
  },
  {
   "cell_type": "code",
   "execution_count": null,
   "metadata": {},
   "outputs": [],
   "source": [
    "import googlemaps"
   ]
  },
  {
   "cell_type": "code",
   "execution_count": null,
   "metadata": {},
   "outputs": [],
   "source": [
    "# https://developers.google.com/maps/documentation/geocoding/start?hl=ko\n",
    "gmaps_key = \"\" # 자신의 key를 사용합니다.\n"
   ]
  },
  {
   "cell_type": "code",
   "execution_count": null,
   "metadata": {},
   "outputs": [],
   "source": [
    "gmaps.geocode('한양대학교 에리카', language='ko')"
   ]
  },
  {
   "cell_type": "code",
   "execution_count": null,
   "metadata": {},
   "outputs": [],
   "source": [
    "# 데이터 내 모든 고등학교의 주소 얻기\n",
    "school_addreess = []\n",
    "school_lat = []\n",
    "school_lng = []\n",
    "\n",
    "for name in ansan_highschool['학교명']: # 조금 전 작업한 school_name에서\n",
    "    tmp = gmaps.geocode(\"안산 \" + name, language='ko') # 경찰서이름을 넣고, geocode 정보를 가져와 tmp에 저장한다.\n",
    "    school_addreess.append(tmp[0].get(\"formatted_address\")) # tmp[0]번째의 'formatted_address'를 가져와 school_address에 저장한다.\n",
    "    \n",
    "    tmp_loc = tmp[0].get(\"geometry\") # tmp[0]번째의 'geometry' 정보를 tmp_loc에 저장한다.\n",
    "\n",
    "    school_lat.append(tmp_loc['location']['lat']) # tmp_loc의 'location' 부분의 'lat'를 school_lat에 추가한다.\n",
    "    school_lng.append(tmp_loc['location']['lng']) # tmp_loc의 'location' 부분의 'lng'를 school_lng에 추가한다.\n",
    "    \n",
    "    print(name + ' --> ' + tmp[0].get(\"formatted_address\")) # 검색한 이름과 추가된 정보를 --> 로 구분하여 표현해 준다."
   ]
  },
  {
   "cell_type": "code",
   "execution_count": null,
   "metadata": {},
   "outputs": [],
   "source": [
    "# 주소 확인\n"
   ]
  },
  {
   "cell_type": "code",
   "execution_count": null,
   "metadata": {},
   "outputs": [],
   "source": [
    "# 위도\n"
   ]
  },
  {
   "cell_type": "code",
   "execution_count": null,
   "metadata": {},
   "outputs": [],
   "source": [
    "# 경도\n"
   ]
  },
  {
   "cell_type": "code",
   "execution_count": null,
   "metadata": {},
   "outputs": [],
   "source": [
    "# 학교 위치 저장\n"
   ]
  },
  {
   "cell_type": "code",
   "execution_count": null,
   "metadata": {},
   "outputs": [],
   "source": [
    "# 그래프 그릴 때 학교명을 기준으로 설정\n"
   ]
  },
  {
   "cell_type": "code",
   "execution_count": null,
   "metadata": {},
   "outputs": [],
   "source": [
    "import pandas as pd\n",
    "import numpy as np"
   ]
  },
  {
   "cell_type": "code",
   "execution_count": null,
   "metadata": {},
   "outputs": [],
   "source": [
    "# 피벗 테이블 \"지역명\",\"학교명\", \"기준년도\"\n"
   ]
  },
  {
   "cell_type": "code",
   "execution_count": null,
   "metadata": {},
   "outputs": [],
   "source": [
    "# 피벗 테이블  index=[\"기준년도\", \"지역명\",\"학교명\"], values=[\"졸업합계(명)\",\"진학합계(명)\",\"취업합계(명)\",\"기타합계(명)\"\n"
   ]
  },
  {
   "cell_type": "code",
   "execution_count": null,
   "metadata": {},
   "outputs": [],
   "source": [
    "# 시각화 패키지 matplotlib과 seaborn 불러오기\n",
    "import matplotlib.pyplot as plt\n",
    "import seaborn as sns\n",
    "\n",
    "%matplotlib inline\n",
    "\n",
    "# 폰트 문제 해결하기\n",
    "import platform\n",
    "\n",
    "path = \"c:/Windows/Fonts/malgun.ttf\"\n",
    "from matplotlib import font_manager, rc\n",
    "if platform.system() == 'Darwin':\n",
    "    rc('font', family='AppleGothic')\n",
    "elif platform.system() == 'Windows':\n",
    "    font_name = font_manager.FontProperties(fname=path).get_name()\n",
    "    rc('font', family=font_name)\n",
    "else:\n",
    "    print('Unknown system... sorry~~~~') "
   ]
  },
  {
   "cell_type": "code",
   "execution_count": null,
   "metadata": {},
   "outputs": [],
   "source": [
    "# 상관관계 플롯 y_vars=[\"진학합계(명)\",\"취업합계(명)\",\"기타합계(명)\"], x_vars=\"졸업합계(명)\"\n"
   ]
  },
  {
   "cell_type": "code",
   "execution_count": null,
   "metadata": {},
   "outputs": [],
   "source": [
    "# 박스 플롯 x=\"기준년도\", y=\"진학비율(%)\", hue=\"지역명\"\n",
    "plt.figure(figsize=(8,6))\n",
    "sns.boxplot(x=\"기준년도\", y=\"진학비율(%)\", hue=\"지역명\", data=ansan_highschool, palette=\"Set3\") \n",
    "plt.show()"
   ]
  },
  {
   "cell_type": "code",
   "execution_count": null,
   "metadata": {},
   "outputs": [],
   "source": [
    "# 박스 플롯 x=\"기준년도\", y=\"진학비율(%)\", hue=\"설립구분명\"\n"
   ]
  },
  {
   "cell_type": "code",
   "execution_count": null,
   "metadata": {},
   "outputs": [],
   "source": [
    "# 박스 플롯 x=\"기준년도\", y=\"취업비율(%)\", hue=\"지역명\"\n"
   ]
  },
  {
   "cell_type": "code",
   "execution_count": null,
   "metadata": {},
   "outputs": [],
   "source": [
    "# 박스 플롯 x=\"기준년도\", y=\"취업비율(%)\", hue=\"설립구분명\"\n"
   ]
  },
  {
   "cell_type": "code",
   "execution_count": null,
   "metadata": {},
   "outputs": [],
   "source": [
    "# 2017년도만 다뤄보자\n"
   ]
  },
  {
   "cell_type": "code",
   "execution_count": null,
   "metadata": {},
   "outputs": [],
   "source": [
    "# 검거 열을 최대치 100으로 환산\n"
   ]
  },
  {
   "cell_type": "code",
   "execution_count": null,
   "metadata": {},
   "outputs": [],
   "source": [
    "# 졸업학생 수의 상대적 비율로 정렬\n"
   ]
  },
  {
   "cell_type": "markdown",
   "metadata": {},
   "source": [
    "## 시각화"
   ]
  },
  {
   "cell_type": "code",
   "execution_count": null,
   "metadata": {},
   "outputs": [],
   "source": [
    "# 한국 지도 형태 가져오기\n",
    "import folium\n",
    "import json\n",
    "geo_path = 'skorea_municipalities_geo_simple.json'\n",
    "geo_str = json.load(open(geo_path, encoding='utf-8'))"
   ]
  },
  {
   "cell_type": "code",
   "execution_count": null,
   "metadata": {},
   "outputs": [],
   "source": [
    "map = folium.Map(location=[37.303431, 126.8357822], zoom_start=12)\n",
    "                 \n",
    "for n in ansan_highschool_2017_sort.index:\n",
    "    folium.Marker([ansan_highschool_2017_sort['lat'][n], \n",
    "                   ansan_highschool_2017_sort['lng'][n]]).add_to(map)\n",
    "map"
   ]
  },
  {
   "cell_type": "code",
   "execution_count": null,
   "metadata": {},
   "outputs": [],
   "source": [
    "# 검거에 적당한 값(10)을 곱해서 원 넓이를 정하고, 경찰서의 검거율을 원의 넓이로 표현한다.\n",
    "map = folium.Map(location=[37.303431, 126.8357822], zoom_start=12)\n",
    "\n",
    "for n in ansan_highschool_2017_sort.index:\n",
    "    folium.CircleMarker([ansan_highschool_2017_sort['lat'][n], ansan_highschool_2017_sort['lng'][n]], \n",
    "                        radius = ansan_highschool_2017_sort['취업비율(%)'][n]*10, \n",
    "                        color='#3186cc', fill_color='#3186cc', fill=True).add_to(map)\n",
    "    \n",
    "map"
   ]
  },
  {
   "cell_type": "code",
   "execution_count": null,
   "metadata": {},
   "outputs": [],
   "source": [
    "# 검거에 적당한 값(10)을 곱해서 원 넓이를 정하고, 경찰서의 검거율을 원의 넓이로 표현한다.\n",
    "map = folium.Map(location=[37.303431, 126.8357822], zoom_start=12)\n",
    "\n",
    "for n in ansan_highschool_2017_sort.index:\n",
    "    folium.CircleMarker([ansan_highschool_2017_sort['lat'][n], ansan_highschool_2017_sort['lng'][n]], \n",
    "                        radius = ansan_highschool_2017_sort['진학비율(%)'][n]*0.4, \n",
    "                        color='#3186cc', fill_color='#3186cc', fill=True).add_to(map)\n",
    "    \n",
    "map"
   ]
  }
 ],
 "metadata": {
  "kernelspec": {
   "display_name": "Python 3",
   "language": "python",
   "name": "python3"
  },
  "language_info": {
   "codemirror_mode": {
    "name": "ipython",
    "version": 3
   },
   "file_extension": ".py",
   "mimetype": "text/x-python",
   "name": "python",
   "nbconvert_exporter": "python",
   "pygments_lexer": "ipython3",
   "version": "3.6.1"
  }
 },
 "nbformat": 4,
 "nbformat_minor": 2
}
